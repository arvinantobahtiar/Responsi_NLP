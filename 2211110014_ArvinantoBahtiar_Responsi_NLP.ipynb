{
  "nbformat": 4,
  "nbformat_minor": 0,
  "metadata": {
    "colab": {
      "provenance": [],
      "authorship_tag": "ABX9TyPPs7+F8jLVQYmmHbNomXBe",
      "include_colab_link": true
    },
    "kernelspec": {
      "name": "python3",
      "display_name": "Python 3"
    },
    "language_info": {
      "name": "python"
    }
  },
  "cells": [
    {
      "cell_type": "markdown",
      "metadata": {
        "id": "view-in-github",
        "colab_type": "text"
      },
      "source": [
        "<a href=\"https://colab.research.google.com/github/arvinantobahtiar/Responsi_NLP/blob/main/2211110014_ArvinantoBahtiar_Responsi_NLP.ipynb\" target=\"_parent\"><img src=\"https://colab.research.google.com/assets/colab-badge.svg\" alt=\"Open In Colab\"/></a>"
      ]
    },
    {
      "cell_type": "code",
      "execution_count": null,
      "metadata": {
        "colab": {
          "base_uri": "https://localhost:8080/"
        },
        "id": "yBIhWadOf4kT",
        "outputId": "8d21901e-bf18-404a-c604-73b9afe81e7a"
      },
      "outputs": [
        {
          "output_type": "stream",
          "name": "stdout",
          "text": [
            "Collecting google-play-scraper\n",
            "  Downloading google_play_scraper-1.2.4-py3-none-any.whl (28 kB)\n",
            "Installing collected packages: google-play-scraper\n",
            "Successfully installed google-play-scraper-1.2.4\n"
          ]
        }
      ],
      "source": [
        "!pip install google-play-scraper\n"
      ]
    },
    {
      "cell_type": "markdown",
      "source": [
        "#Soal 1\n",
        "<br>1.CPMK1- Sub CPMK1.1( bobot : 10 )\n",
        "<br>Lakukan crawling data teks dari media sosial/ web dan simpan hasilnya dalam bentuk excel/csv.\n",
        "<br>Setiap mahasiswa harus melakukan crawling dengan kata kunci tertentu.\n",
        "<br>Kata kunci tidak boleh sama dengan mahasiswa lainnya."
      ],
      "metadata": {
        "id": "05CHzlwnxwko"
      }
    },
    {
      "cell_type": "code",
      "source": [
        "from google_play_scraper import Sort, reviews, app\n",
        "import pandas as pd\n",
        "import numpy as np\n",
        "import regex as re"
      ],
      "metadata": {
        "id": "BISEj3THgN1H"
      },
      "execution_count": null,
      "outputs": []
    },
    {
      "cell_type": "code",
      "source": [
        "result, continuation_token = reviews(\n",
        "    'com.dafturn.mypertamina',\n",
        "    lang='id',\n",
        "    country='id',\n",
        "    sort=Sort.MOST_RELEVANT,\n",
        "    count=1000,\n",
        "    filter_score_with=None\n",
        ")"
      ],
      "metadata": {
        "id": "wQ21CSMNgRnv"
      },
      "execution_count": null,
      "outputs": []
    },
    {
      "cell_type": "code",
      "source": [
        "data = pd.DataFrame(np.array(result), columns=['review'])\n",
        "data = data.join(pd.DataFrame(data.pop('review').tolist()))"
      ],
      "metadata": {
        "id": "HLwuoO2CgTVm"
      },
      "execution_count": null,
      "outputs": []
    },
    {
      "cell_type": "code",
      "source": [
        "data.to_csv('data_scraping.csv')\n",
        "data"
      ],
      "metadata": {
        "colab": {
          "base_uri": "https://localhost:8080/",
          "height": 597
        },
        "id": "OtF_zBWYgU1P",
        "outputId": "465ca7d0-e1e5-4ae2-8c54-1db78c8f30a2"
      },
      "execution_count": null,
      "outputs": [
        {
          "output_type": "execute_result",
          "data": {
            "text/plain": [
              "                                 reviewId          userName  \\\n",
              "0    d7393145-8a62-4946-b1f9-8733899fa76f  Angga Ferdianova   \n",
              "1    ece29b3b-1f85-40dc-9252-9d80f0776c7c     Hendro Wibowo   \n",
              "2    444b6067-10c2-48d5-bdc9-5aa1e584544d     Fitria Sriani   \n",
              "3    045d6151-3bd7-4259-9833-ca8c0838836a         Pani Nisa   \n",
              "4    501b06ce-3aef-4cdd-8762-dbf0bba2d2ba       david moses   \n",
              "..                                    ...               ...   \n",
              "995  9f5e8170-ba06-466f-b43a-eb937af26c7d    Juliva Salekan   \n",
              "996  7bf6d324-165a-4b69-bbc6-a098b04d28dc       Ades Ardian   \n",
              "997  8e428e64-3df0-4dd9-9c63-bf7a0b1d42d8         Joemillaa   \n",
              "998  52d2b34e-95ac-48b3-a1c8-6a28182bb085       Hayyi Abdul   \n",
              "999  f7141c9a-997e-4a71-89e2-9ad4e3ff86d5  Krismana Firdaus   \n",
              "\n",
              "                                             userImage  \\\n",
              "0    https://play-lh.googleusercontent.com/a-/ALV-U...   \n",
              "1    https://play-lh.googleusercontent.com/a-/ALV-U...   \n",
              "2    https://play-lh.googleusercontent.com/a-/ALV-U...   \n",
              "3    https://play-lh.googleusercontent.com/a/ACg8oc...   \n",
              "4    https://play-lh.googleusercontent.com/a-/ALV-U...   \n",
              "..                                                 ...   \n",
              "995  https://play-lh.googleusercontent.com/a-/ALV-U...   \n",
              "996  https://play-lh.googleusercontent.com/a/ACg8oc...   \n",
              "997  https://play-lh.googleusercontent.com/a-/ALV-U...   \n",
              "998  https://play-lh.googleusercontent.com/a-/ALV-U...   \n",
              "999  https://play-lh.googleusercontent.com/a-/ALV-U...   \n",
              "\n",
              "                                               content  score  thumbsUpCount  \\\n",
              "0    Saat pendaftaran selalu di tolak dengan alasan...      1            178   \n",
              "1    Khusus wilayah JaTeng ada penomoran ulang kend...      1            143   \n",
              "2    Aplikasinya bebar-benar menyulitkan , tidak bi...      2             39   \n",
              "3    Terlalu banyak fitur yg tidak terpakai, tidak ...      2              0   \n",
              "4    Aplikasi yg baru sangat menyulitkan.. No rangk...      1              2   \n",
              "..                                                 ...    ...            ...   \n",
              "995  Untuk apa pake app ini toh rata2 spbu selalu m...      5              1   \n",
              "996  kalau belum bisa buat program lebih baik gak u...      1              0   \n",
              "997  saya sudah download tapi saya hapus lagi .pert...      1              0   \n",
              "998  Maunya unduh aplikasi ini karena selalu muncul...      1              0   \n",
              "999  Minta daftar kan di Pom/SPBU terdekat, tapi ad...      1              0   \n",
              "\n",
              "    reviewCreatedVersion                  at replyContent repliedAt appVersion  \n",
              "0                  4.0.2 2023-08-30 00:34:55         None       NaT      4.0.2  \n",
              "1                  4.0.2 2023-09-01 11:54:33         None       NaT      4.0.2  \n",
              "2                  4.0.2 2023-10-02 07:09:58         None       NaT      4.0.2  \n",
              "3                  4.0.2 2023-10-17 05:50:39         None       NaT      4.0.2  \n",
              "4                  4.0.2 2023-10-11 00:33:56         None       NaT      4.0.2  \n",
              "..                   ...                 ...          ...       ...        ...  \n",
              "995                 None 2023-09-09 02:30:52         None       NaT       None  \n",
              "996                 None 2023-09-02 00:22:15         None       NaT       None  \n",
              "997                 None 2023-08-26 09:58:01         None       NaT       None  \n",
              "998                 None 2023-08-14 08:24:57         None       NaT       None  \n",
              "999                 None 2023-08-02 00:04:55         None       NaT       None  \n",
              "\n",
              "[1000 rows x 11 columns]"
            ],
            "text/html": [
              "\n",
              "  <div id=\"df-9dec1c0e-aa3d-453d-b221-7cdd9c876255\" class=\"colab-df-container\">\n",
              "    <div>\n",
              "<style scoped>\n",
              "    .dataframe tbody tr th:only-of-type {\n",
              "        vertical-align: middle;\n",
              "    }\n",
              "\n",
              "    .dataframe tbody tr th {\n",
              "        vertical-align: top;\n",
              "    }\n",
              "\n",
              "    .dataframe thead th {\n",
              "        text-align: right;\n",
              "    }\n",
              "</style>\n",
              "<table border=\"1\" class=\"dataframe\">\n",
              "  <thead>\n",
              "    <tr style=\"text-align: right;\">\n",
              "      <th></th>\n",
              "      <th>reviewId</th>\n",
              "      <th>userName</th>\n",
              "      <th>userImage</th>\n",
              "      <th>content</th>\n",
              "      <th>score</th>\n",
              "      <th>thumbsUpCount</th>\n",
              "      <th>reviewCreatedVersion</th>\n",
              "      <th>at</th>\n",
              "      <th>replyContent</th>\n",
              "      <th>repliedAt</th>\n",
              "      <th>appVersion</th>\n",
              "    </tr>\n",
              "  </thead>\n",
              "  <tbody>\n",
              "    <tr>\n",
              "      <th>0</th>\n",
              "      <td>d7393145-8a62-4946-b1f9-8733899fa76f</td>\n",
              "      <td>Angga Ferdianova</td>\n",
              "      <td>https://play-lh.googleusercontent.com/a-/ALV-U...</td>\n",
              "      <td>Saat pendaftaran selalu di tolak dengan alasan...</td>\n",
              "      <td>1</td>\n",
              "      <td>178</td>\n",
              "      <td>4.0.2</td>\n",
              "      <td>2023-08-30 00:34:55</td>\n",
              "      <td>None</td>\n",
              "      <td>NaT</td>\n",
              "      <td>4.0.2</td>\n",
              "    </tr>\n",
              "    <tr>\n",
              "      <th>1</th>\n",
              "      <td>ece29b3b-1f85-40dc-9252-9d80f0776c7c</td>\n",
              "      <td>Hendro Wibowo</td>\n",
              "      <td>https://play-lh.googleusercontent.com/a-/ALV-U...</td>\n",
              "      <td>Khusus wilayah JaTeng ada penomoran ulang kend...</td>\n",
              "      <td>1</td>\n",
              "      <td>143</td>\n",
              "      <td>4.0.2</td>\n",
              "      <td>2023-09-01 11:54:33</td>\n",
              "      <td>None</td>\n",
              "      <td>NaT</td>\n",
              "      <td>4.0.2</td>\n",
              "    </tr>\n",
              "    <tr>\n",
              "      <th>2</th>\n",
              "      <td>444b6067-10c2-48d5-bdc9-5aa1e584544d</td>\n",
              "      <td>Fitria Sriani</td>\n",
              "      <td>https://play-lh.googleusercontent.com/a-/ALV-U...</td>\n",
              "      <td>Aplikasinya bebar-benar menyulitkan , tidak bi...</td>\n",
              "      <td>2</td>\n",
              "      <td>39</td>\n",
              "      <td>4.0.2</td>\n",
              "      <td>2023-10-02 07:09:58</td>\n",
              "      <td>None</td>\n",
              "      <td>NaT</td>\n",
              "      <td>4.0.2</td>\n",
              "    </tr>\n",
              "    <tr>\n",
              "      <th>3</th>\n",
              "      <td>045d6151-3bd7-4259-9833-ca8c0838836a</td>\n",
              "      <td>Pani Nisa</td>\n",
              "      <td>https://play-lh.googleusercontent.com/a/ACg8oc...</td>\n",
              "      <td>Terlalu banyak fitur yg tidak terpakai, tidak ...</td>\n",
              "      <td>2</td>\n",
              "      <td>0</td>\n",
              "      <td>4.0.2</td>\n",
              "      <td>2023-10-17 05:50:39</td>\n",
              "      <td>None</td>\n",
              "      <td>NaT</td>\n",
              "      <td>4.0.2</td>\n",
              "    </tr>\n",
              "    <tr>\n",
              "      <th>4</th>\n",
              "      <td>501b06ce-3aef-4cdd-8762-dbf0bba2d2ba</td>\n",
              "      <td>david moses</td>\n",
              "      <td>https://play-lh.googleusercontent.com/a-/ALV-U...</td>\n",
              "      <td>Aplikasi yg baru sangat menyulitkan.. No rangk...</td>\n",
              "      <td>1</td>\n",
              "      <td>2</td>\n",
              "      <td>4.0.2</td>\n",
              "      <td>2023-10-11 00:33:56</td>\n",
              "      <td>None</td>\n",
              "      <td>NaT</td>\n",
              "      <td>4.0.2</td>\n",
              "    </tr>\n",
              "    <tr>\n",
              "      <th>...</th>\n",
              "      <td>...</td>\n",
              "      <td>...</td>\n",
              "      <td>...</td>\n",
              "      <td>...</td>\n",
              "      <td>...</td>\n",
              "      <td>...</td>\n",
              "      <td>...</td>\n",
              "      <td>...</td>\n",
              "      <td>...</td>\n",
              "      <td>...</td>\n",
              "      <td>...</td>\n",
              "    </tr>\n",
              "    <tr>\n",
              "      <th>995</th>\n",
              "      <td>9f5e8170-ba06-466f-b43a-eb937af26c7d</td>\n",
              "      <td>Juliva Salekan</td>\n",
              "      <td>https://play-lh.googleusercontent.com/a-/ALV-U...</td>\n",
              "      <td>Untuk apa pake app ini toh rata2 spbu selalu m...</td>\n",
              "      <td>5</td>\n",
              "      <td>1</td>\n",
              "      <td>None</td>\n",
              "      <td>2023-09-09 02:30:52</td>\n",
              "      <td>None</td>\n",
              "      <td>NaT</td>\n",
              "      <td>None</td>\n",
              "    </tr>\n",
              "    <tr>\n",
              "      <th>996</th>\n",
              "      <td>7bf6d324-165a-4b69-bbc6-a098b04d28dc</td>\n",
              "      <td>Ades Ardian</td>\n",
              "      <td>https://play-lh.googleusercontent.com/a/ACg8oc...</td>\n",
              "      <td>kalau belum bisa buat program lebih baik gak u...</td>\n",
              "      <td>1</td>\n",
              "      <td>0</td>\n",
              "      <td>None</td>\n",
              "      <td>2023-09-02 00:22:15</td>\n",
              "      <td>None</td>\n",
              "      <td>NaT</td>\n",
              "      <td>None</td>\n",
              "    </tr>\n",
              "    <tr>\n",
              "      <th>997</th>\n",
              "      <td>8e428e64-3df0-4dd9-9c63-bf7a0b1d42d8</td>\n",
              "      <td>Joemillaa</td>\n",
              "      <td>https://play-lh.googleusercontent.com/a-/ALV-U...</td>\n",
              "      <td>saya sudah download tapi saya hapus lagi .pert...</td>\n",
              "      <td>1</td>\n",
              "      <td>0</td>\n",
              "      <td>None</td>\n",
              "      <td>2023-08-26 09:58:01</td>\n",
              "      <td>None</td>\n",
              "      <td>NaT</td>\n",
              "      <td>None</td>\n",
              "    </tr>\n",
              "    <tr>\n",
              "      <th>998</th>\n",
              "      <td>52d2b34e-95ac-48b3-a1c8-6a28182bb085</td>\n",
              "      <td>Hayyi Abdul</td>\n",
              "      <td>https://play-lh.googleusercontent.com/a-/ALV-U...</td>\n",
              "      <td>Maunya unduh aplikasi ini karena selalu muncul...</td>\n",
              "      <td>1</td>\n",
              "      <td>0</td>\n",
              "      <td>None</td>\n",
              "      <td>2023-08-14 08:24:57</td>\n",
              "      <td>None</td>\n",
              "      <td>NaT</td>\n",
              "      <td>None</td>\n",
              "    </tr>\n",
              "    <tr>\n",
              "      <th>999</th>\n",
              "      <td>f7141c9a-997e-4a71-89e2-9ad4e3ff86d5</td>\n",
              "      <td>Krismana Firdaus</td>\n",
              "      <td>https://play-lh.googleusercontent.com/a-/ALV-U...</td>\n",
              "      <td>Minta daftar kan di Pom/SPBU terdekat, tapi ad...</td>\n",
              "      <td>1</td>\n",
              "      <td>0</td>\n",
              "      <td>None</td>\n",
              "      <td>2023-08-02 00:04:55</td>\n",
              "      <td>None</td>\n",
              "      <td>NaT</td>\n",
              "      <td>None</td>\n",
              "    </tr>\n",
              "  </tbody>\n",
              "</table>\n",
              "<p>1000 rows × 11 columns</p>\n",
              "</div>\n",
              "    <div class=\"colab-df-buttons\">\n",
              "\n",
              "  <div class=\"colab-df-container\">\n",
              "    <button class=\"colab-df-convert\" onclick=\"convertToInteractive('df-9dec1c0e-aa3d-453d-b221-7cdd9c876255')\"\n",
              "            title=\"Convert this dataframe to an interactive table.\"\n",
              "            style=\"display:none;\">\n",
              "\n",
              "  <svg xmlns=\"http://www.w3.org/2000/svg\" height=\"24px\" viewBox=\"0 -960 960 960\">\n",
              "    <path d=\"M120-120v-720h720v720H120Zm60-500h600v-160H180v160Zm220 220h160v-160H400v160Zm0 220h160v-160H400v160ZM180-400h160v-160H180v160Zm440 0h160v-160H620v160ZM180-180h160v-160H180v160Zm440 0h160v-160H620v160Z\"/>\n",
              "  </svg>\n",
              "    </button>\n",
              "\n",
              "  <style>\n",
              "    .colab-df-container {\n",
              "      display:flex;\n",
              "      gap: 12px;\n",
              "    }\n",
              "\n",
              "    .colab-df-convert {\n",
              "      background-color: #E8F0FE;\n",
              "      border: none;\n",
              "      border-radius: 50%;\n",
              "      cursor: pointer;\n",
              "      display: none;\n",
              "      fill: #1967D2;\n",
              "      height: 32px;\n",
              "      padding: 0 0 0 0;\n",
              "      width: 32px;\n",
              "    }\n",
              "\n",
              "    .colab-df-convert:hover {\n",
              "      background-color: #E2EBFA;\n",
              "      box-shadow: 0px 1px 2px rgba(60, 64, 67, 0.3), 0px 1px 3px 1px rgba(60, 64, 67, 0.15);\n",
              "      fill: #174EA6;\n",
              "    }\n",
              "\n",
              "    .colab-df-buttons div {\n",
              "      margin-bottom: 4px;\n",
              "    }\n",
              "\n",
              "    [theme=dark] .colab-df-convert {\n",
              "      background-color: #3B4455;\n",
              "      fill: #D2E3FC;\n",
              "    }\n",
              "\n",
              "    [theme=dark] .colab-df-convert:hover {\n",
              "      background-color: #434B5C;\n",
              "      box-shadow: 0px 1px 3px 1px rgba(0, 0, 0, 0.15);\n",
              "      filter: drop-shadow(0px 1px 2px rgba(0, 0, 0, 0.3));\n",
              "      fill: #FFFFFF;\n",
              "    }\n",
              "  </style>\n",
              "\n",
              "    <script>\n",
              "      const buttonEl =\n",
              "        document.querySelector('#df-9dec1c0e-aa3d-453d-b221-7cdd9c876255 button.colab-df-convert');\n",
              "      buttonEl.style.display =\n",
              "        google.colab.kernel.accessAllowed ? 'block' : 'none';\n",
              "\n",
              "      async function convertToInteractive(key) {\n",
              "        const element = document.querySelector('#df-9dec1c0e-aa3d-453d-b221-7cdd9c876255');\n",
              "        const dataTable =\n",
              "          await google.colab.kernel.invokeFunction('convertToInteractive',\n",
              "                                                    [key], {});\n",
              "        if (!dataTable) return;\n",
              "\n",
              "        const docLinkHtml = 'Like what you see? Visit the ' +\n",
              "          '<a target=\"_blank\" href=https://colab.research.google.com/notebooks/data_table.ipynb>data table notebook</a>'\n",
              "          + ' to learn more about interactive tables.';\n",
              "        element.innerHTML = '';\n",
              "        dataTable['output_type'] = 'display_data';\n",
              "        await google.colab.output.renderOutput(dataTable, element);\n",
              "        const docLink = document.createElement('div');\n",
              "        docLink.innerHTML = docLinkHtml;\n",
              "        element.appendChild(docLink);\n",
              "      }\n",
              "    </script>\n",
              "  </div>\n",
              "\n",
              "\n",
              "<div id=\"df-8bc18d63-92cf-48be-a3ed-ccb85f84f75f\">\n",
              "  <button class=\"colab-df-quickchart\" onclick=\"quickchart('df-8bc18d63-92cf-48be-a3ed-ccb85f84f75f')\"\n",
              "            title=\"Suggest charts.\"\n",
              "            style=\"display:none;\">\n",
              "\n",
              "<svg xmlns=\"http://www.w3.org/2000/svg\" height=\"24px\"viewBox=\"0 0 24 24\"\n",
              "     width=\"24px\">\n",
              "    <g>\n",
              "        <path d=\"M19 3H5c-1.1 0-2 .9-2 2v14c0 1.1.9 2 2 2h14c1.1 0 2-.9 2-2V5c0-1.1-.9-2-2-2zM9 17H7v-7h2v7zm4 0h-2V7h2v10zm4 0h-2v-4h2v4z\"/>\n",
              "    </g>\n",
              "</svg>\n",
              "  </button>\n",
              "\n",
              "<style>\n",
              "  .colab-df-quickchart {\n",
              "      --bg-color: #E8F0FE;\n",
              "      --fill-color: #1967D2;\n",
              "      --hover-bg-color: #E2EBFA;\n",
              "      --hover-fill-color: #174EA6;\n",
              "      --disabled-fill-color: #AAA;\n",
              "      --disabled-bg-color: #DDD;\n",
              "  }\n",
              "\n",
              "  [theme=dark] .colab-df-quickchart {\n",
              "      --bg-color: #3B4455;\n",
              "      --fill-color: #D2E3FC;\n",
              "      --hover-bg-color: #434B5C;\n",
              "      --hover-fill-color: #FFFFFF;\n",
              "      --disabled-bg-color: #3B4455;\n",
              "      --disabled-fill-color: #666;\n",
              "  }\n",
              "\n",
              "  .colab-df-quickchart {\n",
              "    background-color: var(--bg-color);\n",
              "    border: none;\n",
              "    border-radius: 50%;\n",
              "    cursor: pointer;\n",
              "    display: none;\n",
              "    fill: var(--fill-color);\n",
              "    height: 32px;\n",
              "    padding: 0;\n",
              "    width: 32px;\n",
              "  }\n",
              "\n",
              "  .colab-df-quickchart:hover {\n",
              "    background-color: var(--hover-bg-color);\n",
              "    box-shadow: 0 1px 2px rgba(60, 64, 67, 0.3), 0 1px 3px 1px rgba(60, 64, 67, 0.15);\n",
              "    fill: var(--button-hover-fill-color);\n",
              "  }\n",
              "\n",
              "  .colab-df-quickchart-complete:disabled,\n",
              "  .colab-df-quickchart-complete:disabled:hover {\n",
              "    background-color: var(--disabled-bg-color);\n",
              "    fill: var(--disabled-fill-color);\n",
              "    box-shadow: none;\n",
              "  }\n",
              "\n",
              "  .colab-df-spinner {\n",
              "    border: 2px solid var(--fill-color);\n",
              "    border-color: transparent;\n",
              "    border-bottom-color: var(--fill-color);\n",
              "    animation:\n",
              "      spin 1s steps(1) infinite;\n",
              "  }\n",
              "\n",
              "  @keyframes spin {\n",
              "    0% {\n",
              "      border-color: transparent;\n",
              "      border-bottom-color: var(--fill-color);\n",
              "      border-left-color: var(--fill-color);\n",
              "    }\n",
              "    20% {\n",
              "      border-color: transparent;\n",
              "      border-left-color: var(--fill-color);\n",
              "      border-top-color: var(--fill-color);\n",
              "    }\n",
              "    30% {\n",
              "      border-color: transparent;\n",
              "      border-left-color: var(--fill-color);\n",
              "      border-top-color: var(--fill-color);\n",
              "      border-right-color: var(--fill-color);\n",
              "    }\n",
              "    40% {\n",
              "      border-color: transparent;\n",
              "      border-right-color: var(--fill-color);\n",
              "      border-top-color: var(--fill-color);\n",
              "    }\n",
              "    60% {\n",
              "      border-color: transparent;\n",
              "      border-right-color: var(--fill-color);\n",
              "    }\n",
              "    80% {\n",
              "      border-color: transparent;\n",
              "      border-right-color: var(--fill-color);\n",
              "      border-bottom-color: var(--fill-color);\n",
              "    }\n",
              "    90% {\n",
              "      border-color: transparent;\n",
              "      border-bottom-color: var(--fill-color);\n",
              "    }\n",
              "  }\n",
              "</style>\n",
              "\n",
              "  <script>\n",
              "    async function quickchart(key) {\n",
              "      const quickchartButtonEl =\n",
              "        document.querySelector('#' + key + ' button');\n",
              "      quickchartButtonEl.disabled = true;  // To prevent multiple clicks.\n",
              "      quickchartButtonEl.classList.add('colab-df-spinner');\n",
              "      try {\n",
              "        const charts = await google.colab.kernel.invokeFunction(\n",
              "            'suggestCharts', [key], {});\n",
              "      } catch (error) {\n",
              "        console.error('Error during call to suggestCharts:', error);\n",
              "      }\n",
              "      quickchartButtonEl.classList.remove('colab-df-spinner');\n",
              "      quickchartButtonEl.classList.add('colab-df-quickchart-complete');\n",
              "    }\n",
              "    (() => {\n",
              "      let quickchartButtonEl =\n",
              "        document.querySelector('#df-8bc18d63-92cf-48be-a3ed-ccb85f84f75f button');\n",
              "      quickchartButtonEl.style.display =\n",
              "        google.colab.kernel.accessAllowed ? 'block' : 'none';\n",
              "    })();\n",
              "  </script>\n",
              "</div>\n",
              "    </div>\n",
              "  </div>\n"
            ]
          },
          "metadata": {},
          "execution_count": 250
        }
      ]
    },
    {
      "cell_type": "code",
      "source": [
        "data['content'].to_csv(\"comment.csv\", index=False)"
      ],
      "metadata": {
        "id": "ySL449LGgW_X"
      },
      "execution_count": null,
      "outputs": []
    },
    {
      "cell_type": "code",
      "source": [
        "df = pd.read_csv(\"comment.csv\")"
      ],
      "metadata": {
        "id": "KUTJG-nvgmV_"
      },
      "execution_count": null,
      "outputs": []
    },
    {
      "cell_type": "code",
      "source": [
        "df.rename(columns={'content': 'comment'}, inplace=True)\n",
        "df"
      ],
      "metadata": {
        "colab": {
          "base_uri": "https://localhost:8080/",
          "height": 424
        },
        "id": "CAWR55o5gn-P",
        "outputId": "5d178134-d8a5-4d81-dc2a-dea63a33c9d3"
      },
      "execution_count": null,
      "outputs": [
        {
          "output_type": "execute_result",
          "data": {
            "text/plain": [
              "                                               comment\n",
              "0    Saat pendaftaran selalu di tolak dengan alasan...\n",
              "1    Khusus wilayah JaTeng ada penomoran ulang kend...\n",
              "2    Aplikasinya bebar-benar menyulitkan , tidak bi...\n",
              "3    Terlalu banyak fitur yg tidak terpakai, tidak ...\n",
              "4    Aplikasi yg baru sangat menyulitkan.. No rangk...\n",
              "..                                                 ...\n",
              "995  Untuk apa pake app ini toh rata2 spbu selalu m...\n",
              "996  kalau belum bisa buat program lebih baik gak u...\n",
              "997  saya sudah download tapi saya hapus lagi .pert...\n",
              "998  Maunya unduh aplikasi ini karena selalu muncul...\n",
              "999  Minta daftar kan di Pom/SPBU terdekat, tapi ad...\n",
              "\n",
              "[1000 rows x 1 columns]"
            ],
            "text/html": [
              "\n",
              "  <div id=\"df-1e655403-8946-409e-9c48-971b9b7858fa\" class=\"colab-df-container\">\n",
              "    <div>\n",
              "<style scoped>\n",
              "    .dataframe tbody tr th:only-of-type {\n",
              "        vertical-align: middle;\n",
              "    }\n",
              "\n",
              "    .dataframe tbody tr th {\n",
              "        vertical-align: top;\n",
              "    }\n",
              "\n",
              "    .dataframe thead th {\n",
              "        text-align: right;\n",
              "    }\n",
              "</style>\n",
              "<table border=\"1\" class=\"dataframe\">\n",
              "  <thead>\n",
              "    <tr style=\"text-align: right;\">\n",
              "      <th></th>\n",
              "      <th>comment</th>\n",
              "    </tr>\n",
              "  </thead>\n",
              "  <tbody>\n",
              "    <tr>\n",
              "      <th>0</th>\n",
              "      <td>Saat pendaftaran selalu di tolak dengan alasan...</td>\n",
              "    </tr>\n",
              "    <tr>\n",
              "      <th>1</th>\n",
              "      <td>Khusus wilayah JaTeng ada penomoran ulang kend...</td>\n",
              "    </tr>\n",
              "    <tr>\n",
              "      <th>2</th>\n",
              "      <td>Aplikasinya bebar-benar menyulitkan , tidak bi...</td>\n",
              "    </tr>\n",
              "    <tr>\n",
              "      <th>3</th>\n",
              "      <td>Terlalu banyak fitur yg tidak terpakai, tidak ...</td>\n",
              "    </tr>\n",
              "    <tr>\n",
              "      <th>4</th>\n",
              "      <td>Aplikasi yg baru sangat menyulitkan.. No rangk...</td>\n",
              "    </tr>\n",
              "    <tr>\n",
              "      <th>...</th>\n",
              "      <td>...</td>\n",
              "    </tr>\n",
              "    <tr>\n",
              "      <th>995</th>\n",
              "      <td>Untuk apa pake app ini toh rata2 spbu selalu m...</td>\n",
              "    </tr>\n",
              "    <tr>\n",
              "      <th>996</th>\n",
              "      <td>kalau belum bisa buat program lebih baik gak u...</td>\n",
              "    </tr>\n",
              "    <tr>\n",
              "      <th>997</th>\n",
              "      <td>saya sudah download tapi saya hapus lagi .pert...</td>\n",
              "    </tr>\n",
              "    <tr>\n",
              "      <th>998</th>\n",
              "      <td>Maunya unduh aplikasi ini karena selalu muncul...</td>\n",
              "    </tr>\n",
              "    <tr>\n",
              "      <th>999</th>\n",
              "      <td>Minta daftar kan di Pom/SPBU terdekat, tapi ad...</td>\n",
              "    </tr>\n",
              "  </tbody>\n",
              "</table>\n",
              "<p>1000 rows × 1 columns</p>\n",
              "</div>\n",
              "    <div class=\"colab-df-buttons\">\n",
              "\n",
              "  <div class=\"colab-df-container\">\n",
              "    <button class=\"colab-df-convert\" onclick=\"convertToInteractive('df-1e655403-8946-409e-9c48-971b9b7858fa')\"\n",
              "            title=\"Convert this dataframe to an interactive table.\"\n",
              "            style=\"display:none;\">\n",
              "\n",
              "  <svg xmlns=\"http://www.w3.org/2000/svg\" height=\"24px\" viewBox=\"0 -960 960 960\">\n",
              "    <path d=\"M120-120v-720h720v720H120Zm60-500h600v-160H180v160Zm220 220h160v-160H400v160Zm0 220h160v-160H400v160ZM180-400h160v-160H180v160Zm440 0h160v-160H620v160ZM180-180h160v-160H180v160Zm440 0h160v-160H620v160Z\"/>\n",
              "  </svg>\n",
              "    </button>\n",
              "\n",
              "  <style>\n",
              "    .colab-df-container {\n",
              "      display:flex;\n",
              "      gap: 12px;\n",
              "    }\n",
              "\n",
              "    .colab-df-convert {\n",
              "      background-color: #E8F0FE;\n",
              "      border: none;\n",
              "      border-radius: 50%;\n",
              "      cursor: pointer;\n",
              "      display: none;\n",
              "      fill: #1967D2;\n",
              "      height: 32px;\n",
              "      padding: 0 0 0 0;\n",
              "      width: 32px;\n",
              "    }\n",
              "\n",
              "    .colab-df-convert:hover {\n",
              "      background-color: #E2EBFA;\n",
              "      box-shadow: 0px 1px 2px rgba(60, 64, 67, 0.3), 0px 1px 3px 1px rgba(60, 64, 67, 0.15);\n",
              "      fill: #174EA6;\n",
              "    }\n",
              "\n",
              "    .colab-df-buttons div {\n",
              "      margin-bottom: 4px;\n",
              "    }\n",
              "\n",
              "    [theme=dark] .colab-df-convert {\n",
              "      background-color: #3B4455;\n",
              "      fill: #D2E3FC;\n",
              "    }\n",
              "\n",
              "    [theme=dark] .colab-df-convert:hover {\n",
              "      background-color: #434B5C;\n",
              "      box-shadow: 0px 1px 3px 1px rgba(0, 0, 0, 0.15);\n",
              "      filter: drop-shadow(0px 1px 2px rgba(0, 0, 0, 0.3));\n",
              "      fill: #FFFFFF;\n",
              "    }\n",
              "  </style>\n",
              "\n",
              "    <script>\n",
              "      const buttonEl =\n",
              "        document.querySelector('#df-1e655403-8946-409e-9c48-971b9b7858fa button.colab-df-convert');\n",
              "      buttonEl.style.display =\n",
              "        google.colab.kernel.accessAllowed ? 'block' : 'none';\n",
              "\n",
              "      async function convertToInteractive(key) {\n",
              "        const element = document.querySelector('#df-1e655403-8946-409e-9c48-971b9b7858fa');\n",
              "        const dataTable =\n",
              "          await google.colab.kernel.invokeFunction('convertToInteractive',\n",
              "                                                    [key], {});\n",
              "        if (!dataTable) return;\n",
              "\n",
              "        const docLinkHtml = 'Like what you see? Visit the ' +\n",
              "          '<a target=\"_blank\" href=https://colab.research.google.com/notebooks/data_table.ipynb>data table notebook</a>'\n",
              "          + ' to learn more about interactive tables.';\n",
              "        element.innerHTML = '';\n",
              "        dataTable['output_type'] = 'display_data';\n",
              "        await google.colab.output.renderOutput(dataTable, element);\n",
              "        const docLink = document.createElement('div');\n",
              "        docLink.innerHTML = docLinkHtml;\n",
              "        element.appendChild(docLink);\n",
              "      }\n",
              "    </script>\n",
              "  </div>\n",
              "\n",
              "\n",
              "<div id=\"df-30566dec-2b4d-4ae1-b90d-272b2c0036a9\">\n",
              "  <button class=\"colab-df-quickchart\" onclick=\"quickchart('df-30566dec-2b4d-4ae1-b90d-272b2c0036a9')\"\n",
              "            title=\"Suggest charts.\"\n",
              "            style=\"display:none;\">\n",
              "\n",
              "<svg xmlns=\"http://www.w3.org/2000/svg\" height=\"24px\"viewBox=\"0 0 24 24\"\n",
              "     width=\"24px\">\n",
              "    <g>\n",
              "        <path d=\"M19 3H5c-1.1 0-2 .9-2 2v14c0 1.1.9 2 2 2h14c1.1 0 2-.9 2-2V5c0-1.1-.9-2-2-2zM9 17H7v-7h2v7zm4 0h-2V7h2v10zm4 0h-2v-4h2v4z\"/>\n",
              "    </g>\n",
              "</svg>\n",
              "  </button>\n",
              "\n",
              "<style>\n",
              "  .colab-df-quickchart {\n",
              "      --bg-color: #E8F0FE;\n",
              "      --fill-color: #1967D2;\n",
              "      --hover-bg-color: #E2EBFA;\n",
              "      --hover-fill-color: #174EA6;\n",
              "      --disabled-fill-color: #AAA;\n",
              "      --disabled-bg-color: #DDD;\n",
              "  }\n",
              "\n",
              "  [theme=dark] .colab-df-quickchart {\n",
              "      --bg-color: #3B4455;\n",
              "      --fill-color: #D2E3FC;\n",
              "      --hover-bg-color: #434B5C;\n",
              "      --hover-fill-color: #FFFFFF;\n",
              "      --disabled-bg-color: #3B4455;\n",
              "      --disabled-fill-color: #666;\n",
              "  }\n",
              "\n",
              "  .colab-df-quickchart {\n",
              "    background-color: var(--bg-color);\n",
              "    border: none;\n",
              "    border-radius: 50%;\n",
              "    cursor: pointer;\n",
              "    display: none;\n",
              "    fill: var(--fill-color);\n",
              "    height: 32px;\n",
              "    padding: 0;\n",
              "    width: 32px;\n",
              "  }\n",
              "\n",
              "  .colab-df-quickchart:hover {\n",
              "    background-color: var(--hover-bg-color);\n",
              "    box-shadow: 0 1px 2px rgba(60, 64, 67, 0.3), 0 1px 3px 1px rgba(60, 64, 67, 0.15);\n",
              "    fill: var(--button-hover-fill-color);\n",
              "  }\n",
              "\n",
              "  .colab-df-quickchart-complete:disabled,\n",
              "  .colab-df-quickchart-complete:disabled:hover {\n",
              "    background-color: var(--disabled-bg-color);\n",
              "    fill: var(--disabled-fill-color);\n",
              "    box-shadow: none;\n",
              "  }\n",
              "\n",
              "  .colab-df-spinner {\n",
              "    border: 2px solid var(--fill-color);\n",
              "    border-color: transparent;\n",
              "    border-bottom-color: var(--fill-color);\n",
              "    animation:\n",
              "      spin 1s steps(1) infinite;\n",
              "  }\n",
              "\n",
              "  @keyframes spin {\n",
              "    0% {\n",
              "      border-color: transparent;\n",
              "      border-bottom-color: var(--fill-color);\n",
              "      border-left-color: var(--fill-color);\n",
              "    }\n",
              "    20% {\n",
              "      border-color: transparent;\n",
              "      border-left-color: var(--fill-color);\n",
              "      border-top-color: var(--fill-color);\n",
              "    }\n",
              "    30% {\n",
              "      border-color: transparent;\n",
              "      border-left-color: var(--fill-color);\n",
              "      border-top-color: var(--fill-color);\n",
              "      border-right-color: var(--fill-color);\n",
              "    }\n",
              "    40% {\n",
              "      border-color: transparent;\n",
              "      border-right-color: var(--fill-color);\n",
              "      border-top-color: var(--fill-color);\n",
              "    }\n",
              "    60% {\n",
              "      border-color: transparent;\n",
              "      border-right-color: var(--fill-color);\n",
              "    }\n",
              "    80% {\n",
              "      border-color: transparent;\n",
              "      border-right-color: var(--fill-color);\n",
              "      border-bottom-color: var(--fill-color);\n",
              "    }\n",
              "    90% {\n",
              "      border-color: transparent;\n",
              "      border-bottom-color: var(--fill-color);\n",
              "    }\n",
              "  }\n",
              "</style>\n",
              "\n",
              "  <script>\n",
              "    async function quickchart(key) {\n",
              "      const quickchartButtonEl =\n",
              "        document.querySelector('#' + key + ' button');\n",
              "      quickchartButtonEl.disabled = true;  // To prevent multiple clicks.\n",
              "      quickchartButtonEl.classList.add('colab-df-spinner');\n",
              "      try {\n",
              "        const charts = await google.colab.kernel.invokeFunction(\n",
              "            'suggestCharts', [key], {});\n",
              "      } catch (error) {\n",
              "        console.error('Error during call to suggestCharts:', error);\n",
              "      }\n",
              "      quickchartButtonEl.classList.remove('colab-df-spinner');\n",
              "      quickchartButtonEl.classList.add('colab-df-quickchart-complete');\n",
              "    }\n",
              "    (() => {\n",
              "      let quickchartButtonEl =\n",
              "        document.querySelector('#df-30566dec-2b4d-4ae1-b90d-272b2c0036a9 button');\n",
              "      quickchartButtonEl.style.display =\n",
              "        google.colab.kernel.accessAllowed ? 'block' : 'none';\n",
              "    })();\n",
              "  </script>\n",
              "</div>\n",
              "    </div>\n",
              "  </div>\n"
            ]
          },
          "metadata": {},
          "execution_count": 253
        }
      ]
    },
    {
      "cell_type": "markdown",
      "source": [
        "#Soal 2\n",
        "<br>Lakukan pembersihan meliputi penghapusan punctuation, angka dan karakter yang tidak penting menggunakan menggunakan regex.\n",
        "<br>Simpan hasilnya menjadi file csv/excel.\n"
      ],
      "metadata": {
        "id": "J-TMPglax-v4"
      }
    },
    {
      "cell_type": "code",
      "source": [
        "def clean_text(text):\n",
        "    text = re.sub(r'[^a-zA-Z\\s]', '', text)\n",
        "    text = re.sub(r'\\s+', ' ', text).strip()\n",
        "    text = text.lower()\n",
        "    return text"
      ],
      "metadata": {
        "id": "nIg-P-bFgpa3"
      },
      "execution_count": null,
      "outputs": []
    },
    {
      "cell_type": "code",
      "source": [
        "df['comment'] = df['comment'].apply(clean_text)"
      ],
      "metadata": {
        "id": "ylbONBEvhlzF"
      },
      "execution_count": null,
      "outputs": []
    },
    {
      "cell_type": "code",
      "source": [
        "df.to_csv(\"clean_comment.csv\", index=False, header=False)"
      ],
      "metadata": {
        "id": "fWfw56fxh5kv"
      },
      "execution_count": null,
      "outputs": []
    },
    {
      "cell_type": "markdown",
      "source": [
        "#Soal 3a\n",
        "a.\tLakukan parsing dan simpan hasilnya dalam bentuk excel/csv (bobot:10)"
      ],
      "metadata": {
        "id": "r4pyU0W5yLHH"
      }
    },
    {
      "cell_type": "code",
      "source": [
        "import nltk\n",
        "from nltk.corpus import stopwords\n",
        "from nltk.stem import PorterStemmer\n",
        "from nltk.tokenize import word_tokenize, sent_tokenize\n",
        "from string import punctuation\n",
        "nltk.download('stopwords')\n",
        "nltk.download('punkt')"
      ],
      "metadata": {
        "colab": {
          "base_uri": "https://localhost:8080/"
        },
        "id": "CIxx1JsDiAzd",
        "outputId": "f218cdd4-7a7e-42cc-ddcc-b5a4309c37bb"
      },
      "execution_count": null,
      "outputs": [
        {
          "output_type": "stream",
          "name": "stderr",
          "text": [
            "[nltk_data] Downloading package stopwords to /root/nltk_data...\n",
            "[nltk_data]   Package stopwords is already up-to-date!\n",
            "[nltk_data] Downloading package punkt to /root/nltk_data...\n",
            "[nltk_data]   Package punkt is already up-to-date!\n"
          ]
        },
        {
          "output_type": "execute_result",
          "data": {
            "text/plain": [
              "True"
            ]
          },
          "metadata": {},
          "execution_count": 257
        }
      ]
    },
    {
      "cell_type": "code",
      "source": [
        "with open('clean_comment.csv', 'r') as csv_file:\n",
        "    lines = csv_file.readlines()\n",
        "\n",
        "    comments = ''.join(line.strip() for line in lines)"
      ],
      "metadata": {
        "id": "B64HSzbElk8v"
      },
      "execution_count": null,
      "outputs": []
    },
    {
      "cell_type": "code",
      "source": [
        "sent_token = sent_tokenize(comments)\n",
        "word_token = word_tokenize(comments)\n",
        "word_token = [token for token in word_token if token not in punctuation]\n",
        "comment = pd.DataFrame(word_token)"
      ],
      "metadata": {
        "id": "Q1QRDQe3jWn0"
      },
      "execution_count": null,
      "outputs": []
    },
    {
      "cell_type": "code",
      "source": [
        "comment.to_csv(\"parsing.csv\", index=False)"
      ],
      "metadata": {
        "id": "_84h1Fgnyixm"
      },
      "execution_count": null,
      "outputs": []
    },
    {
      "cell_type": "markdown",
      "source": [
        "#Soal 3b\n",
        "b.Carilah kata-kata slangword yang ada dalam dataset Anda, dengan cara mencocokan dengan kamus KBBI (terlampir).\n",
        "<br>Simpan hasilnya dalam bentuk csv/excel.\n",
        "<br> Tampilkan 100 kata slang yang Anda dapatkan dan tampilkan dalam bentuk Gunakan (bobot:25)"
      ],
      "metadata": {
        "id": "D40eCoX0z0kn"
      }
    },
    {
      "cell_type": "code",
      "source": [
        "pd.DataFrame(word_token).to_csv(\"parsing.csv\", index=False, header=False)"
      ],
      "metadata": {
        "id": "AoQ39t0st0kw"
      },
      "execution_count": null,
      "outputs": []
    },
    {
      "cell_type": "code",
      "source": [
        "sl = pd.read_csv('stopwords.csv')"
      ],
      "metadata": {
        "id": "32Eke5t-mHnp"
      },
      "execution_count": null,
      "outputs": []
    },
    {
      "cell_type": "code",
      "source": [
        "def find_slang_words(comment, kamus_slang):\n",
        "    slang_words = [word for word in comment if word not in kamus_slang]\n",
        "    return slang_words\n",
        "\n",
        "comm_tanpa_slangword = pd.DataFrame()\n",
        "comm_tanpa_slangword['slang_words'] = comment.apply(lambda x: find_slang_words(x, sl['Slangwords'].values))"
      ],
      "metadata": {
        "id": "qFaAFDIiqmP9"
      },
      "execution_count": null,
      "outputs": []
    },
    {
      "cell_type": "code",
      "source": [
        "comm_tanpa_slangword.to_csv(\"comments_tanpa_slangword.csv\", index=False, header=False)"
      ],
      "metadata": {
        "id": "208UHirG0-6x"
      },
      "execution_count": null,
      "outputs": []
    },
    {
      "cell_type": "markdown",
      "source": [
        "#Soal 3c\n",
        "c.Lakukan tokenizing berdasarkan  hasil 3b, simpan hasilnya dalam bentuk csv/excel  dan tampilkan 100 token pertama. (bobot:10)"
      ],
      "metadata": {
        "id": "z0LMtWz11HHS"
      }
    },
    {
      "cell_type": "code",
      "source": [
        "comm_tanpa_slangword.to_csv('comm_tanpa_slangword_tokenize.csv')"
      ],
      "metadata": {
        "id": "RdL1cn6V0G0U"
      },
      "execution_count": 334,
      "outputs": []
    },
    {
      "cell_type": "markdown",
      "source": [
        "#Soal 3d\n",
        "d.Lakukan stopword removing  berdasarkan hasil 3c, simpan hasilnya dalam bentuk csv/excel. (bobot:10)!"
      ],
      "metadata": {
        "id": "s8vvjTdh9_o1"
      }
    },
    {
      "cell_type": "code",
      "source": [
        "!pip install sastrawi"
      ],
      "metadata": {
        "colab": {
          "base_uri": "https://localhost:8080/"
        },
        "id": "A-FTWFFh-8C4",
        "outputId": "100c5ffb-58b0-4fd8-90eb-d78f6595f3e3"
      },
      "execution_count": null,
      "outputs": [
        {
          "output_type": "stream",
          "name": "stdout",
          "text": [
            "Collecting sastrawi\n",
            "  Downloading Sastrawi-1.0.1-py2.py3-none-any.whl (209 kB)\n",
            "\u001b[?25l     \u001b[90m━━━━━━━━━━━━━━━━━━━━━━━━━━━━━━━━━━━━━━━━\u001b[0m \u001b[32m0.0/209.7 kB\u001b[0m \u001b[31m?\u001b[0m eta \u001b[36m-:--:--\u001b[0m\r\u001b[2K     \u001b[90m━━━━━━━━━━━━━━━━━━━━━━━━━━━━━━━━━━━━━━━━\u001b[0m \u001b[32m209.7/209.7 kB\u001b[0m \u001b[31m6.0 MB/s\u001b[0m eta \u001b[36m0:00:00\u001b[0m\n",
            "\u001b[?25hInstalling collected packages: sastrawi\n",
            "Successfully installed sastrawi-1.0.1\n"
          ]
        }
      ]
    },
    {
      "cell_type": "code",
      "source": [
        "from Sastrawi.StopWordRemover.StopWordRemoverFactory import StopWordRemoverFactory\n",
        "\n",
        "def remove_stopword(words):\n",
        "  factory = StopWordRemoverFactory()\n",
        "  stopword_remover = factory.create_stop_word_remover()\n",
        "  processed_words = [stopword_remover.remove(word) for word in words]\n",
        "  return processed_words"
      ],
      "metadata": {
        "id": "JrVaF26i5jpG"
      },
      "execution_count": null,
      "outputs": []
    },
    {
      "cell_type": "code",
      "source": [
        "comm_tanpa_slang_list = comm_tanpa_slangword['slang_words'].to_list()"
      ],
      "metadata": {
        "id": "7GrcPApeAFaC"
      },
      "execution_count": null,
      "outputs": []
    },
    {
      "cell_type": "code",
      "source": [
        "processed_texts_stopword = remove_stopword(comm_tanpa_slang_list)"
      ],
      "metadata": {
        "id": "MzHxd7l0-ijb"
      },
      "execution_count": null,
      "outputs": []
    },
    {
      "cell_type": "code",
      "source": [
        "comm_bersih = pd.DataFrame()\n",
        "comm_bersih['comment'] = processed_texts_stopword\n",
        "comm_bersih.to_csv(\"comm_tanpa_slang&stopword.csv\")"
      ],
      "metadata": {
        "id": "V8lmEOI-A38K"
      },
      "execution_count": null,
      "outputs": []
    },
    {
      "cell_type": "markdown",
      "source": [
        "#Soal 3e\n",
        "e.Lakukan stemming berdasarkan hasil 3d dan tampilkan 100 stem pertama. (bobot:10)"
      ],
      "metadata": {
        "id": "7bL9zwLOB0mz"
      }
    },
    {
      "cell_type": "code",
      "source": [
        "df_comm_bersih = pd.read_csv('comm_tanpa_slang&stopword.csv')\n",
        "\n",
        "df_comm_bersih = df_comm_bersih['comment'].to_list()"
      ],
      "metadata": {
        "id": "GUi0sgPLFGBa"
      },
      "execution_count": null,
      "outputs": []
    },
    {
      "cell_type": "code",
      "source": [
        "from nlp_id.lemmatizer import Lemmatizer\n",
        "\n",
        "lemmatizer = Lemmatizer()\n",
        "lemmatized_list = []\n",
        "\n",
        "for item in df_comm_bersih:\n",
        "    if isinstance(item, str):\n",
        "        lemmatized_list.append(lemmatizer.lemmatize(item))\n",
        "    else:\n",
        "        lemmatized_list.append(item)"
      ],
      "metadata": {
        "id": "r9vYVfbuEKxZ"
      },
      "execution_count": null,
      "outputs": []
    },
    {
      "cell_type": "code",
      "source": [
        "lemmatized_list[0:100]"
      ],
      "metadata": {
        "colab": {
          "base_uri": "https://localhost:8080/"
        },
        "id": "QF6Wdym-DMb2",
        "outputId": "29b44086-b44e-4e67-d8b6-9a26e087590b"
      },
      "execution_count": null,
      "outputs": [
        {
          "output_type": "execute_result",
          "data": {
            "text/plain": [
              "['stnk',\n",
              " 'aplikasi',\n",
              " 'ngeblur',\n",
              " 'saumpama',\n",
              " 'hasil',\n",
              " 'baik',\n",
              " 'mudah',\n",
              " 'proses',\n",
              " 'kasihkhusus',\n",
              " 'jateng',\n",
              " 'gak',\n",
              " 'nopol',\n",
              " 'stnk',\n",
              " nan,\n",
              " 'sepenuh',\n",
              " 'jepret',\n",
              " 'hasil',\n",
              " 'dinstnk',\n",
              " 'aplikasiaplikasinya',\n",
              " 'bebarbenar',\n",
              " 'yg',\n",
              " 'gak',\n",
              " 'baharu',\n",
              " 'datanik',\n",
              " 'yg',\n",
              " 'tdk',\n",
              " 'call',\n",
              " 'center',\n",
              " 'gak',\n",
              " 'yg',\n",
              " 'jls',\n",
              " 'beri',\n",
              " 'baik',\n",
              " 'besarterlalu',\n",
              " 'fitur',\n",
              " 'yg',\n",
              " 'yg',\n",
              " 'tampil',\n",
              " 'fitur',\n",
              " 'berbelitbelit',\n",
              " 'qr',\n",
              " 'track',\n",
              " 'penjualanpembelian',\n",
              " 'bbm',\n",
              " 'home',\n",
              " 'pageaplikasi',\n",
              " 'yg',\n",
              " 'terang',\n",
              " 'database',\n",
              " 'temukanngimana',\n",
              " 'persulituntuk',\n",
              " 'aplikasi',\n",
              " 'bbm',\n",
              " 'tambah',\n",
              " 'input',\n",
              " 'km',\n",
              " 'bbm',\n",
              " 'serta',\n",
              " 'report',\n",
              " 'avg',\n",
              " 'literkm',\n",
              " 'avg',\n",
              " 'literkm',\n",
              " 'kendara',\n",
              " 'segi',\n",
              " 'palembang',\n",
              " 'spbu',\n",
              " 'yg',\n",
              " 'support',\n",
              " 'yg',\n",
              " 'support',\n",
              " 'temu',\n",
              " 'offline',\n",
              " 'ngisi',\n",
              " 'ga',\n",
              " 'point',\n",
              " 'spbu',\n",
              " 'nya',\n",
              " 'ga',\n",
              " 'support',\n",
              " 'aplikasinyabuat',\n",
              " 'spbu',\n",
              " 'nya',\n",
              " 'mypertamina',\n",
              " 'spbunya',\n",
              " 'd',\n",
              " 'tp',\n",
              " 'tetep',\n",
              " 'ga',\n",
              " 'pake',\n",
              " 'cash',\n",
              " 'd',\n",
              " 'update',\n",
              " 'loading',\n",
              " 'g',\n",
              " 'haduhsekarang',\n",
              " 'aplikasi',\n",
              " 'bayar',\n",
              " 'kaga',\n",
              " 'promo']"
            ]
          },
          "metadata": {},
          "execution_count": 333
        }
      ]
    }
  ]
}